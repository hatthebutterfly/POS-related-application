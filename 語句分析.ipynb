{
 "cells": [
  {
   "cell_type": "code",
   "execution_count": 2,
   "id": "fecc6e77",
   "metadata": {},
   "outputs": [
    {
     "name": "stderr",
     "output_type": "stream",
     "text": [
      "[nltk_data] Downloading package averaged_perceptron_tagger to\n",
      "[nltk_data]     C:\\Users\\johns\\AppData\\Roaming\\nltk_data...\n",
      "[nltk_data]   Package averaged_perceptron_tagger is already up-to-\n",
      "[nltk_data]       date!\n"
     ]
    }
   ],
   "source": [
    "import nltk\n",
    "from nltk.tag import pos_tag\n",
    "nltk.download(\"averaged_perceptron_tagger\")\n",
    "\n",
    "tokenised_sent = [\"their\", \"decision\", \"makes\", \"no\", \"economic\", \"sense\"]"
   ]
  },
  {
   "cell_type": "code",
   "execution_count": 3,
   "id": "b45e0a75",
   "metadata": {},
   "outputs": [
    {
     "name": "stdout",
     "output_type": "stream",
     "text": [
      "[('their', 'PRP$'), ('decision', 'NN'), ('makes', 'VBZ'), ('no', 'DT'), ('economic', 'JJ'), ('sense', 'NN')]\n"
     ]
    }
   ],
   "source": [
    "#標註詞性\n",
    "pos_tagged=pos_tag(tokenised_sent)\n",
    "print(pos_tagged)"
   ]
  },
  {
   "cell_type": "code",
   "execution_count": 4,
   "id": "b6489170",
   "metadata": {},
   "outputs": [],
   "source": [
    "#語塊分析(chunk phasing)=>名詞片語\n",
    "from nltk import RegexpParser\n",
    "noun_phrase='NP:{<DT>?<JJ>*<NN.*>}'#<DT>?表示匹配0~1次的冠詞；<JJ>*表示匹配0~無數次的形容詞；<NN.?>表示匹配NN, NNS, NNP或 NNPS\n",
    "#build a praser\n",
    "np_praser=RegexpParser(noun_phrase)\n",
    "#find the target in the pos_tagged sentence\n",
    "result_np=np_praser.parse(pos_tagged)\n",
    "#draw the tree\n",
    "result_np.draw()"
   ]
  },
  {
   "cell_type": "code",
   "execution_count": 5,
   "id": "ca670b6c",
   "metadata": {},
   "outputs": [
    {
     "name": "stdout",
     "output_type": "stream",
     "text": [
      "[('Jerry', 'NNP'), ('was', 'VBD'), ('laughing', 'VBG'), ('so', 'RB'), ('hard', 'JJ')]\n",
      "[('David', 'NNP'), ('should', 'MD'), ('have', 'VB'), ('known', 'VBN'), ('the', 'DT'), ('answer', 'NN'), ('to', 'TO'), ('the', 'DT'), ('math', 'NN'), ('question', 'NN')]\n"
     ]
    }
   ],
   "source": [
    "#語塊分析(chunk phasing)=>動詞片語\n",
    "w1='Jerry was laughing so hard'.split(' ')\n",
    "tagged_w1=pos_tag(w1)\n",
    "print(tagged_w1)\n",
    "w2='David should have known the answer to the math question'.split(' ')\n",
    "tagged_w2=pos_tag(w2)\n",
    "print(tagged_w2)\n",
    "\n",
    "vp=\"VP_1: {<DT>?<JJ>*<NN.?><VB.?><RB.?>?}\"\n",
    "vp_chunk_grammar_2 = \"VP_2: {<VB.?><DT>?<JJ>*<NN.?><RB.?>?}\"\n",
    "vp_parser=RegexpParser(vp)\n",
    "result_vp_1=vp_parser.parse(tagged_w1)\n",
    "result_vp_2=vp_parser.parse(tagged_w2)\n",
    "result_vp_1.draw()\n",
    "result_vp_2.draw()"
   ]
  },
  {
   "cell_type": "code",
   "execution_count": 7,
   "id": "1f634dc2",
   "metadata": {},
   "outputs": [
    {
     "name": "stdout",
     "output_type": "stream",
     "text": [
      "['Jerry', 'was', 'laughing', 'hard']\n",
      "(S (N Jerry) (VP (VBD was) (VBG laughing)) (RB hard))\n",
      "(S (N Jerry) (VP (VBD was) (VBG laughing) (RB hard)))\n"
     ]
    }
   ],
   "source": [
    "import nltk\n",
    "from nltk import pos_tag\n",
    "from nltk import ChartParser\n",
    "\n",
    "# 要分析的句子\n",
    "sentence = \"Jerry was laughing hard\"\n",
    "\n",
    "def preprocess(text):\n",
    "    sentences = nltk.sent_tokenize(text)                     # sentence segmentation\n",
    "    sentences = [nltk.word_tokenize(s) for s in sentences]   # word tokenization\n",
    "    # THIS LINE SEEMS TO BE THE ISSUE\n",
    "    # sentences = [nltk.pos_tag(s) for s in sentences]         # part-of-speech tagger\n",
    "    return sentences\n",
    "\n",
    "preprocessed = preprocess(sentence)\n",
    "\n",
    "# 進行詞性標註\n",
    "tagged_sentence = pos_tag(nltk.word_tokenize(sentence))\n",
    "\n",
    "# 創建文法規則\n",
    "#VP -> VBD | VBG\n",
    "sent = [[\"Jerry\",\"was\",\"laughing\"]]\n",
    "grammar = nltk.CFG.fromstring(\"\"\"\n",
    "    S -> N VP | N VP RB  \n",
    "    NP -> N \n",
    "    VP -> VBD | VBG | VBD VBG RB | VBD VBG\n",
    "    N -> 'Jerry'\n",
    "    RB -> 'hard'\n",
    "    VBD -> 'was'\n",
    "    VBG -> 'laughing'\n",
    "\"\"\")\n",
    "\n",
    "# 創建 ChartParser\n",
    "chart_parser = ChartParser(grammar)\n",
    "\n",
    "# 使用 ChartParser 進行分析\n",
    "for sentences in preprocessed:\n",
    "    print(sentences)\n",
    "    for tree in chart_parser.parse(sentences):\n",
    "        print(tree)\n",
    "        tree.draw()"
   ]
  },
  {
   "cell_type": "code",
   "execution_count": 8,
   "id": "ea5af435",
   "metadata": {},
   "outputs": [
    {
     "name": "stdout",
     "output_type": "stream",
     "text": [
      "['The', 'burglar', 'robbed', 'the', 'bank']\n",
      "(S\n",
      "  (NP (DT The) (NN burglar))\n",
      "  (VP (VBD robbed) (NP (DT the) (NN bank))))\n"
     ]
    }
   ],
   "source": [
    "message = \"The burglar robbed the bank\"\n",
    "\n",
    "#----------------------------------------------------------\n",
    "# Preprocessing\n",
    "#----------------------------------------------------------\n",
    "def preprocess(text):\n",
    "    sentences = nltk.sent_tokenize(text)                     # sentence segmentation\n",
    "    sentences = [nltk.word_tokenize(s) for s in sentences]   # word tokenization\n",
    "    # THIS LINE SEEMS TO BE THE ISSUE\n",
    "    # sentences = [nltk.pos_tag(s) for s in sentences]         # part-of-speech tagger\n",
    "    return sentences\n",
    "\n",
    "preprocessed = preprocess(message)\n",
    "\n",
    "#----------------------------------------------------------\n",
    "# Define grammer\n",
    "#----------------------------------------------------------\n",
    "grammar1 = nltk.CFG.fromstring(\"\"\"\n",
    "S -> NP VP\n",
    "NP -> DT NN\n",
    "VP -> VBD NP | VBD\n",
    "DT -> 'the' | 'The'\n",
    "NN -> 'burglar' | 'bank'\n",
    "VBD -> 'robbed'\n",
    "\"\"\")\n",
    "\n",
    "#----------------------------------------------------------\n",
    "# Parsing\n",
    "#----------------------------------------------------------\n",
    "parser = nltk.ChartParser(grammar1)\n",
    "\n",
    "for sentence in preprocessed:\n",
    "    print(sentence)\n",
    "    for tree in parser.parse(sentence):\n",
    "        print(tree)\n",
    "        tree.draw()"
   ]
  },
  {
   "cell_type": "code",
   "execution_count": null,
   "id": "e9072ad6",
   "metadata": {},
   "outputs": [],
   "source": []
  },
  {
   "cell_type": "code",
   "execution_count": null,
   "id": "89955974",
   "metadata": {},
   "outputs": [],
   "source": []
  }
 ],
 "metadata": {
  "kernelspec": {
   "display_name": "Python 3 (ipykernel)",
   "language": "python",
   "name": "python3"
  },
  "language_info": {
   "codemirror_mode": {
    "name": "ipython",
    "version": 3
   },
   "file_extension": ".py",
   "mimetype": "text/x-python",
   "name": "python",
   "nbconvert_exporter": "python",
   "pygments_lexer": "ipython3",
   "version": "3.9.9"
  }
 },
 "nbformat": 4,
 "nbformat_minor": 5
}
