{
 "cells": [
  {
   "cell_type": "code",
   "execution_count": 1,
   "id": "ca35c61a",
   "metadata": {},
   "outputs": [
    {
     "name": "stderr",
     "output_type": "stream",
     "text": [
      "[nltk_data] Downloading package averaged_perceptron_tagger to\n",
      "[nltk_data]     C:\\Users\\johns\\AppData\\Roaming\\nltk_data...\n",
      "[nltk_data]   Package averaged_perceptron_tagger is already up-to-\n",
      "[nltk_data]       date!\n"
     ]
    }
   ],
   "source": [
    "import nltk\n",
    "from nltk.tag import pos_tag\n",
    "nltk.download(\"averaged_perceptron_tagger\")\n",
    "\n",
    "tokenised_sent = [\"their\", \"decision\", \"makes\", \"no\", \"economic\", \"sense\"]"
   ]
  },
  {
   "cell_type": "code",
   "execution_count": 2,
   "id": "6efabf84",
   "metadata": {},
   "outputs": [
    {
     "name": "stdout",
     "output_type": "stream",
     "text": [
      "[('their', 'PRP$'), ('decision', 'NN'), ('makes', 'VBZ'), ('no', 'DT'), ('economic', 'JJ'), ('sense', 'NN')]\n"
     ]
    }
   ],
   "source": [
    "#標註詞性\n",
    "pos_tagged=pos_tag(tokenised_sent)\n",
    "print(pos_tagged)"
   ]
  },
  {
   "cell_type": "code",
   "execution_count": 3,
   "id": "a6f78959",
   "metadata": {},
   "outputs": [
    {
     "name": "stdout",
     "output_type": "stream",
     "text": [
      "['the', 'spectat', 'all', 'stood', 'and', 'sang', 'the', 'nation', 'anthem']\n",
      "['the', 'spect', 'al', 'stood', 'and', 'sang', 'the', 'nat', 'anthem']\n",
      "['the', 'spectat', 'all', 'stood', 'and', 'sang', 'the', 'nation', 'anthem']\n"
     ]
    }
   ],
   "source": [
    "#語幹提取(stemming)\n",
    "from nltk.stem import PorterStemmer, LancasterStemmer, SnowballStemmer #引入三種stemming 演算法\n",
    "tokens = [\"the\", \"spectators\", \"all\", \"stood\", \"and\", \"sang\", \"the\", \"national\", \"anthem\"]\n",
    "\n",
    "port=PorterStemmer()\n",
    "stemmed_port=[port.stem(t) for t in tokens]\n",
    "\n",
    "lanca=LancasterStemmer()\n",
    "stemmed_lanca=[lanca.stem(t) for t in tokens]\n",
    "\n",
    "snow=SnowballStemmer('english')\n",
    "stemmed_snow=[snow.stem(t) for t in tokens]\n",
    "\n",
    "print(stemmed_port)\n",
    "print(stemmed_lanca)\n",
    "print(stemmed_snow)\n",
    "#stemming 是把字尾去掉，只剩下詞幹。這樣的機制難以處理多種詞的變化形態，包括過去式(如 sing=>sang)"
   ]
  },
  {
   "cell_type": "code",
   "execution_count": 4,
   "id": "b2decddd",
   "metadata": {},
   "outputs": [
    {
     "name": "stderr",
     "output_type": "stream",
     "text": [
      "[nltk_data] Downloading package wordnet to\n",
      "[nltk_data]     C:\\Users\\johns\\AppData\\Roaming\\nltk_data...\n",
      "[nltk_data]   Package wordnet is already up-to-date!\n",
      "[nltk_data] Downloading package omw-1.4 to\n",
      "[nltk_data]     C:\\Users\\johns\\AppData\\Roaming\\nltk_data...\n",
      "[nltk_data]   Package omw-1.4 is already up-to-date!\n"
     ]
    },
    {
     "name": "stdout",
     "output_type": "stream",
     "text": [
      "[('the', 'DT'), ('spectators', 'NNS'), ('all', 'DT'), ('stood', 'NN'), ('and', 'CC'), ('sang', 'VBD'), ('the', 'DT'), ('national', 'JJ'), ('anthem', 'NN')]\n",
      "['the', 'spectator', 'all', 'stood', 'and', 'sang', 'the', 'national', 'anthem']\n",
      "['the', 'spectator', 'all', 'stood', 'and', 'sing', 'the', 'national', 'anthem']\n"
     ]
    }
   ],
   "source": [
    "\n",
    "#詞形還原（Lemmatisation）\n",
    "from nltk.stem import WordNetLemmatizer\n",
    "from nltk.corpus import wordnet\n",
    "nltk.download('wordnet')\n",
    "nltk.download('omw-1.4')\n",
    "\n",
    "def form_speech_dict(pos):\n",
    "    t={}\n",
    "    for i in pos:\n",
    "        t[i[0]]=i[1]\n",
    "    return t\n",
    "def get_part_of_speech(pose):\n",
    "    w=form_speech_dict(pose)\n",
    "    a=[]\n",
    "    for i in pose:\n",
    "        if w[i[0]].startswith('J'):\n",
    "            a.append(wordnet.ADJ)\n",
    "        elif w[i[0]].startswith('V'):\n",
    "            a.append(wordnet.VERB)\n",
    "        elif w[i[0]].startswith('N'):\n",
    "            a.append(wordnet.NOUN)\n",
    "        elif w[i[0]].startswith('R'):\n",
    "            a.append(wordnet.ADV)\n",
    "        else:\n",
    "            a.append(None)\n",
    "    return a\n",
    "print(pos_tag(tokens))\n",
    "lemmatiser = WordNetLemmatizer()\n",
    "lemmatised = [lemmatiser.lemmatize(token) for token in tokens]\n",
    "print(lemmatised)\n",
    "#以上程式無法有效還原，但以下程式可以\n",
    "s=get_part_of_speech(pos_tag(tokens))\n",
    "result_sen=[]\n",
    "for i in range(len(s)):\n",
    "    if s[i]!=None:\n",
    "        result_sen.append(lemmatiser.lemmatize(tokens[i],pos=s[i]))\n",
    "    else:\n",
    "        result_sen.append(lemmatiser.lemmatize(tokens[i]))\n",
    "print(result_sen)"
   ]
  },
  {
   "cell_type": "code",
   "execution_count": null,
   "id": "c2978201",
   "metadata": {},
   "outputs": [],
   "source": []
  }
 ],
 "metadata": {
  "kernelspec": {
   "display_name": "Python 3 (ipykernel)",
   "language": "python",
   "name": "python3"
  },
  "language_info": {
   "codemirror_mode": {
    "name": "ipython",
    "version": 3
   },
   "file_extension": ".py",
   "mimetype": "text/x-python",
   "name": "python",
   "nbconvert_exporter": "python",
   "pygments_lexer": "ipython3",
   "version": "3.9.9"
  }
 },
 "nbformat": 4,
 "nbformat_minor": 5
}
